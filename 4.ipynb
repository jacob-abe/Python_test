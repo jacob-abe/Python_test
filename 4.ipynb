{
 "cells": [
  {
   "cell_type": "code",
   "execution_count": 4,
   "metadata": {},
   "outputs": [
    {
     "name": "stdout",
     "output_type": "stream",
     "text": [
      "min-max normalisation\n",
      "Normalised data of age\n",
      "[[0.51724138]\n",
      " [0.5862069 ]\n",
      " [0.34482759]\n",
      " ...\n",
      " [0.        ]\n",
      " [0.03448276]\n",
      " [0.        ]]\n",
      "Normalised data of Overall\n",
      "[[1.        ]\n",
      " [1.        ]\n",
      " [0.95833333]\n",
      " ...\n",
      " [0.02083333]\n",
      " [0.02083333]\n",
      " [0.        ]]\n",
      "Normalised data of Potential\n",
      "[[0.9787234 ]\n",
      " [0.9787234 ]\n",
      " [0.95744681]\n",
      " ...\n",
      " [0.40425532]\n",
      " [0.38297872]\n",
      " [0.38297872]]\n",
      "Z-Score normalisation\n",
      "Normalised data of age\n",
      "[ 1.25867833  1.68696087  0.18797198 ... -1.95344072 -1.73929945\n",
      " -1.95344072]\n",
      "Normalised data of Overall\n",
      "[ 4.01828714  4.01828714  3.72879875 ... -2.78469008 -2.78469008\n",
      " -2.92943428]\n",
      "Normalised data of Potential\n",
      "[ 3.69809177  3.69809177  3.53512784 ... -0.70193445 -0.86489839\n",
      " -0.86489839]\n"
     ]
    },
    {
     "name": "stderr",
     "output_type": "stream",
     "text": [
      "C:\\Users\\Abrar\\Anaconda3\\lib\\site-packages\\sklearn\\preprocessing\\data.py:334: DataConversionWarning: Data with input dtype int64 were all converted to float64 by MinMaxScaler.\n",
      "  return self.partial_fit(X, y)\n",
      "C:\\Users\\Abrar\\Anaconda3\\lib\\site-packages\\sklearn\\preprocessing\\data.py:334: DataConversionWarning: Data with input dtype int64 were all converted to float64 by MinMaxScaler.\n",
      "  return self.partial_fit(X, y)\n",
      "C:\\Users\\Abrar\\Anaconda3\\lib\\site-packages\\sklearn\\preprocessing\\data.py:334: DataConversionWarning: Data with input dtype int64 were all converted to float64 by MinMaxScaler.\n",
      "  return self.partial_fit(X, y)\n"
     ]
    }
   ],
   "source": [
    "import pandas as pd\n",
    "import numpy as np\n",
    "from sklearn.preprocessing import MinMaxScaler\n",
    "from scipy import stats\n",
    "data=pd.read_csv(\"C:\\\\Users\\\\Abrar\\\\Downloads\\\\EX-1-master\\\\mine.csv\")\n",
    "df = pd.DataFrame(data)\n",
    "min_max=MinMaxScaler()\n",
    "print(\"min-max normalisation\")\n",
    "print(\"Normalised data of age\")\n",
    "print(min_max.fit_transform(df[['Age']]))\n",
    "print(\"Normalised data of Overall\")\n",
    "print(min_max.fit_transform(df[['Overall']]))\n",
    "print(\"Normalised data of Potential\")\n",
    "print(min_max.fit_transform(df[['Potential']]))\n",
    "\n",
    "\n",
    "print(\"Z-Score normalisation\")\n",
    "print(\"Normalised data of age\")\n",
    "a=np.array(df['Age'])\n",
    "print(stats.zscore(a))\n",
    "print(\"Normalised data of Overall\")\n",
    "b=np.array(df['Overall'])\n",
    "print(stats.zscore(b))\n",
    "print(\"Normalised data of Potential\")\n",
    "c=np.array(df['Potential'])\n",
    "print(stats.zscore(c))\n"
   ]
  },
  {
   "cell_type": "code",
   "execution_count": null,
   "metadata": {},
   "outputs": [],
   "source": []
  }
 ],
 "metadata": {
  "kernelspec": {
   "display_name": "Python 3",
   "language": "python",
   "name": "python3"
  },
  "language_info": {
   "codemirror_mode": {
    "name": "ipython",
    "version": 3
   },
   "file_extension": ".py",
   "mimetype": "text/x-python",
   "name": "python",
   "nbconvert_exporter": "python",
   "pygments_lexer": "ipython3",
   "version": "3.7.3"
  }
 },
 "nbformat": 4,
 "nbformat_minor": 2
}
